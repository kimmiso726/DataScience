{
  "nbformat": 4,
  "nbformat_minor": 0,
  "metadata": {
    "colab": {
      "name": "02_텍스트 데이터 다루기.ipynb",
      "provenance": []
    },
    "kernelspec": {
      "name": "python3",
      "display_name": "Python 3"
    },
    "language_info": {
      "name": "python"
    }
  },
  "cells": [
    {
      "cell_type": "markdown",
      "metadata": {
        "id": "9DWBgCwaAqk0"
      },
      "source": [
        "BeautifulSoup 사용하여 HTML 파싱\n"
      ]
    },
    {
      "cell_type": "code",
      "metadata": {
        "id": "RK0CfyyhAdj_",
        "colab": {
          "base_uri": "https://localhost:8080/",
          "height": 239
        },
        "outputId": "87f5e0b4-d39a-4aae-e8e6-b6065b993d56"
      },
      "source": [
        "from bs4 import BeautifulSoup\n",
        "from urllib.request import urlopen\n",
        "\n",
        "# 1)문자열에서 soup을 생성한다.\n",
        "soup1=BeautifulSoup(\"<HTML><HEAD><<headers>></HEAD><<body>></HTML>\")\n",
        "\n",
        "# 2) 로컬 파일에서 soup을 생성한다.\n",
        "soup2= BeautifulSoup(open(\"myDoc.html\"))\n",
        "\n",
        "# 3) 웹문서에서 soup을 생성한다-> 크롤링의 기초\n",
        "soup3=BeautifulSoup(urlopen(\"http://www.networksciencelab.com/\"))\n"
      ],
      "execution_count": null,
      "outputs": [
        {
          "output_type": "error",
          "ename": "FileNotFoundError",
          "evalue": "ignored",
          "traceback": [
            "\u001b[0;31m---------------------------------------------------------------------------\u001b[0m",
            "\u001b[0;31mFileNotFoundError\u001b[0m                         Traceback (most recent call last)",
            "\u001b[0;32m<ipython-input-41-593822614d12>\u001b[0m in \u001b[0;36m<module>\u001b[0;34m()\u001b[0m\n\u001b[1;32m      6\u001b[0m \u001b[0;34m\u001b[0m\u001b[0m\n\u001b[1;32m      7\u001b[0m \u001b[0;31m# 2) 로컬 파일에서 soup을 생성한다.\u001b[0m\u001b[0;34m\u001b[0m\u001b[0;34m\u001b[0m\u001b[0;34m\u001b[0m\u001b[0m\n\u001b[0;32m----> 8\u001b[0;31m \u001b[0msoup2\u001b[0m\u001b[0;34m=\u001b[0m \u001b[0mBeautifulSoup\u001b[0m\u001b[0;34m(\u001b[0m\u001b[0mopen\u001b[0m\u001b[0;34m(\u001b[0m\u001b[0;34m\"myDoc.html\"\u001b[0m\u001b[0;34m)\u001b[0m\u001b[0;34m)\u001b[0m\u001b[0;34m\u001b[0m\u001b[0;34m\u001b[0m\u001b[0m\n\u001b[0m\u001b[1;32m      9\u001b[0m \u001b[0;34m\u001b[0m\u001b[0m\n\u001b[1;32m     10\u001b[0m \u001b[0;31m# 3) 웹문서에서 soup을 생성한다-> 크롤링의 기초\u001b[0m\u001b[0;34m\u001b[0m\u001b[0;34m\u001b[0m\u001b[0;34m\u001b[0m\u001b[0m\n",
            "\u001b[0;31mFileNotFoundError\u001b[0m: [Errno 2] No such file or directory: 'myDoc.html'"
          ]
        }
      ]
    },
    {
      "cell_type": "code",
      "metadata": {
        "colab": {
          "base_uri": "https://localhost:8080/"
        },
        "id": "6enhhvuuC_8v",
        "outputId": "abbe663c-d7b5-4a20-848d-891adf64cd69"
      },
      "source": [
        "soup1"
      ],
      "execution_count": null,
      "outputs": [
        {
          "output_type": "execute_result",
          "data": {
            "text/plain": [
              "<html><head></head><body><p>&lt;<headers>&gt;&lt;&gt;</headers></p></body></html>"
            ]
          },
          "metadata": {
            "tags": []
          },
          "execution_count": 5
        }
      ]
    },
    {
      "cell_type": "markdown",
      "metadata": {
        "id": "l7UzuGZdD4JB"
      },
      "source": [
        "find(), find_all()특정 속성 (href=파이퍼링크 정보) 값 찾기"
      ]
    },
    {
      "cell_type": "code",
      "metadata": {
        "colab": {
          "base_uri": "https://localhost:8080/"
        },
        "id": "3tvy9Ox4FJ9O",
        "outputId": "e913ea9b-ac3c-430f-ab48-daa8a24bf5f3"
      },
      "source": [
        "soup2"
      ],
      "execution_count": null,
      "outputs": [
        {
          "output_type": "execute_result",
          "data": {
            "text/plain": [
              "<html><head></head><body><p>&lt;<headers>&gt;&lt;&gt;</headers></p></body></html>"
            ]
          },
          "metadata": {
            "tags": []
          },
          "execution_count": 6
        }
      ]
    },
    {
      "cell_type": "code",
      "metadata": {
        "id": "TNB8IfTmFMa7"
      },
      "source": [
        "soup3"
      ],
      "execution_count": null,
      "outputs": []
    },
    {
      "cell_type": "code",
      "metadata": {
        "colab": {
          "base_uri": "https://localhost:8080/"
        },
        "id": "xXyOxmZXDAxO",
        "outputId": "9efacdc7-75ed-4113-f447-970744e7b314"
      },
      "source": [
        "# \"http://www.networksciencelab.com/ 사이트에서 하이퍼링크정보 모두 가져오기\n",
        "\n",
        "with urlopen(\"http://www.networksciencelab.com/\") as doc : #http:// 꼭 쓰기\n",
        "  soup = BeautifulSoup(doc)\n",
        "\n",
        "# 하이퍼링크만 추출  \n",
        "links =[(link.string, link[\"href\"]) for link in soup.find_all(\"a\") if link.has_attr(\"href\")]\n",
        "\n",
        "links"
      ],
      "execution_count": null,
      "outputs": [
        {
          "output_type": "execute_result",
          "data": {
            "text/plain": [
              "[(None, 'https://pragprog.com/book/dzpyds/data-science-essentials-in-python'),\n",
              " (None,\n",
              "  'https://pragprog.com/book/dzcnapy/complex-network-analysis-in-python'),\n",
              " ('DZPYDS', 'https://www.amazon.com/gp/product/1680501844'),\n",
              " ('DZCNAPY', 'https://www.amazon.com/gp/product/1680502697'),\n",
              " ('Networks of Music Groups as Success Predictors',\n",
              "  'http://www.slideshare.net/DmitryZinoviev/networks-of-music-groups-as-success-predictors'),\n",
              " ('Network Science Workshop',\n",
              "  'http://www.slideshare.net/DmitryZinoviev/workshop-20212296'),\n",
              " ('Resilience in Transaction-Oriented Networks',\n",
              "  'http://www.slideshare.net/DmitryZinoviev/resilience-in-transactional-networks'),\n",
              " ('Peer Ratings in Massive Online Social Networks',\n",
              "  'http://www.slideshare.net/DmitryZinoviev/peer-ratings-in-massive-online-social-networks'),\n",
              " ('Semantic Networks of Interests in Online NSSI Communities',\n",
              "  'http://www.slideshare.net/DmitryZinoviev/presentation-31680572'),\n",
              " ('Towards an Ideal Store',\n",
              "  'http://www.slideshare.net/DmitryZinoviev/10-monthsymposiumbeta'),\n",
              " ('D.Zinoviev, \"Analyzing Cultural Domains with Python,\"',\n",
              "  'https://media.pragprog.com/newsletters/2016-04-06.html'),\n",
              " ('D. Zinoviev, D. Stefanescu, G. Fireman, and L. Swenson, \"Semantic networks of interests in online non-suicidal self-injury communities,\"',\n",
              "  'http://dhj.sagepub.com/content/2/2055207616642118.full'),\n",
              " ('D.Zinoviev, \"The Pain of Complexity,\"',\n",
              "  'http://www.mitpressjournals.org/doi/abs/10.1162/LEON_a_01271#.VzOvwHUrKzc'),\n",
              " ('D.Zinoviev, Z.Zhu, and K.Li, \"Building mini-categories in product networks,\"',\n",
              "  'http://link.springer.com/chapter/10.1007/978-3-319-16112-9_18'),\n",
              " ('D.Zinoviev, H.Benbrahim, G.Meszoely, and D.Stefanescu, \"Mitigation of delayed management costs in transaction-oriented systems,\"',\n",
              "  'http://arxiv.org/abs/1409.6771'),\n",
              " ('D.Zinoviev, H.Benbrahim, G.Meszoely, and D.Stefanescu, \"Simulating resilience in transaction-oriented networks,\"',\n",
              "  'http://dl.acm.org/citation.cfm?id=2499974'),\n",
              " ('D.Zinoviev, D.Stefanescu, L.Swenson, and G.Fireman, \"Semantic networks of interests in online NSSI communities,\"',\n",
              "  'http://arxiv.org/abs/1206.5520'),\n",
              " ('D.Zinoviev and S.Llewelyn, \"Co-Evolution of Friendship and Publishing in Online Blogging Social Networks,\"',\n",
              "  'http://arxiv.org/abs/1401.6964'),\n",
              " ('D.Zinoviev, \"Information diffusion in social networks,\"',\n",
              "  'http://dl.acm.org/citation.cfm?id=2208181'),\n",
              " ('D.Zinoviev and V.Duong, \"A game theoretical approach to broadcast  information diffusion in social networks,\"',\n",
              "  'http://dl.acm.org/citation.cfm?id=2048377'),\n",
              " ('D.Zinoviev and V.Duong, \"A game theoretical approach to modeling full-duplex information dissemination,\"',\n",
              "  'http://dl.acm.org/citation.cfm?id=1999462'),\n",
              " ('D.Zinoviev, V.Duong, and H.Zhang, \"A game theoretical approach to modeling information dissemination in social networks,\"',\n",
              "  'http://arxiv.org/abs/1006.5493'),\n",
              " ('D.Zinoviev and V.Duong, \"Toward Understanding Friendship in Online Social Networks,\"',\n",
              "  'http://arxiv.org/abs/0902.4658'),\n",
              " ('D.Zinoviev, \"Topology and Geometry of Online Social Networks,\"',\n",
              "  'http://arxiv.org/abs/0807.3996'),\n",
              " ('Vixi: The Game of Meaning', '/vixi/html5/'),\n",
              " ('Evgenia Cherkasova', 'http://meaningoflife.cherkasova.org/'),\n",
              " ('All Characters from War and Peace by L.Tolstoy', 'v2.jpg'),\n",
              " ('Mapping the Bible: Social Networks in the Holy Book', 'bible-networks.pdf'),\n",
              " ('FIFA World Cup 2014: Who Beat Whom?', 'wc2014.gif'),\n",
              " ('The seed post \"9 American habits I lost when I moved to Germany\" and its 125 \"likes\" and \"shares\" on Facebook',\n",
              "  'facebook_spread.gif'),\n",
              " ('Email', 'mailto:dzinoviev@suffolk.edu'),\n",
              " ('Suffolk University',\n",
              "  'https://www.suffolk.edu/academics/faculty/z/i/dmitry-zinoviev'),\n",
              " ('Google Scholar',\n",
              "  'https://scholar.google.com/citations?hl=en&user=j5GjuIkAAAAJ&sortby=pubdate&view_op=list_works&pagesize=100'),\n",
              " ('LinkedIn', 'https://www.linkedin.com/pub/dmitry-zinoviev/4/a78/27b'),\n",
              " ('Academia.edu', 'https://suffolk.academia.edu/DmitryZinoviev'),\n",
              " ('ResearchGate', 'https://www.researchgate.net/profile/Dmitry_Zinoviev')]"
            ]
          },
          "metadata": {
            "tags": []
          },
          "execution_count": 51
        }
      ]
    },
    {
      "cell_type": "markdown",
      "metadata": {
        "id": "7d-p_7ffitEU"
      },
      "source": [
        "csv파일 다루기"
      ]
    },
    {
      "cell_type": "markdown",
      "metadata": {
        "id": "RWUQDHYXiyiy"
      },
      "source": [
        "statistics 모듈을 사용해서 나이 변수의 평균과 표준편차 구하기"
      ]
    },
    {
      "cell_type": "code",
      "metadata": {
        "id": "Hi8g-8nbjnHP"
      },
      "source": [
        ""
      ],
      "execution_count": null,
      "outputs": []
    },
    {
      "cell_type": "markdown",
      "metadata": {
        "id": "wu1EquHZZ9uN"
      },
      "source": [
        "데이터 가져오기"
      ]
    },
    {
      "cell_type": "code",
      "metadata": {
        "id": "uB-9SLFciwcO"
      },
      "source": [
        "import csv\n",
        "with open(\"/content/Demographic_Statistics_By_Zip_Code.csv\") as infile:\n",
        "  data=list(csv.reader(infile))"
      ],
      "execution_count": null,
      "outputs": []
    },
    {
      "cell_type": "markdown",
      "metadata": {
        "id": "nhymw5l-_QwZ"
      },
      "source": [
        ""
      ]
    },
    {
      "cell_type": "code",
      "metadata": {
        "id": "6pn-StysFT8L"
      },
      "source": [
        "data"
      ],
      "execution_count": null,
      "outputs": []
    },
    {
      "cell_type": "markdown",
      "metadata": {
        "id": "WaM507MSjYH-"
      },
      "source": [
        ""
      ]
    },
    {
      "cell_type": "code",
      "metadata": {
        "colab": {
          "base_uri": "https://localhost:8080/"
        },
        "id": "f4c1-Pg2klKL",
        "outputId": "b45d40b2-fca8-48ae-f687-0751a2de790c"
      },
      "source": [
        "#첫번째 레코드에 COUNT PARTICIPANTS 데이터 인덱스 값 추출 DATA[0] 컬럼 값\n",
        "countParticipantsindex = data[0].index(\"COUNT PARTICIPANTS\")\n",
        "countParticipantsindex"
      ],
      "execution_count": null,
      "outputs": [
        {
          "output_type": "execute_result",
          "data": {
            "text/plain": [
              "1"
            ]
          },
          "metadata": {
            "tags": []
          },
          "execution_count": 6
        }
      ]
    },
    {
      "cell_type": "code",
      "metadata": {
        "id": "OSG4zy9ckx_E"
      },
      "source": [
        "# COUNT PARTICIPANTS 데이터 추출\n",
        "countParticipants = [int(row[countParticipantsindex]) for row in data[1:]] # 리스트 내포\n",
        "#실제데이터가 1부터. 0은 컬럼명\n",
        "countParticipants"
      ],
      "execution_count": null,
      "outputs": []
    },
    {
      "cell_type": "markdown",
      "metadata": {
        "id": "aSbPeb-WmknB"
      },
      "source": [
        "나이의 평균과 표준편차"
      ]
    },
    {
      "cell_type": "code",
      "metadata": {
        "colab": {
          "base_uri": "https://localhost:8080/"
        },
        "id": "JpHIXF80meFz",
        "outputId": "1868e662-ae1a-492b-bf5f-79e5bd606586"
      },
      "source": [
        "import statistics\n",
        "\n",
        "print(statistics.mean(countParticipants), statistics.stdev(countParticipants))"
      ],
      "execution_count": null,
      "outputs": [
        {
          "output_type": "stream",
          "text": [
            "17.661016949152543 43.27973735299687\n"
          ],
          "name": "stdout"
        }
      ]
    },
    {
      "cell_type": "markdown",
      "metadata": {
        "id": "HlT4waQhvesP"
      },
      "source": [
        "자연어 처리하기\n"
      ]
    },
    {
      "cell_type": "code",
      "metadata": {
        "colab": {
          "base_uri": "https://localhost:8080/"
        },
        "id": "aCevYTJFvhSx",
        "outputId": "02dd84ab-7ebc-431f-85c1-ee09e9578edb"
      },
      "source": [
        "pip install nltk"
      ],
      "execution_count": null,
      "outputs": [
        {
          "output_type": "stream",
          "text": [
            "Requirement already satisfied: nltk in /usr/local/lib/python3.7/dist-packages (3.2.5)\n",
            "Requirement already satisfied: six in /usr/local/lib/python3.7/dist-packages (from nltk) (1.15.0)\n"
          ],
          "name": "stdout"
        }
      ]
    },
    {
      "cell_type": "code",
      "metadata": {
        "colab": {
          "base_uri": "https://localhost:8080/",
          "height": 35
        },
        "id": "yoqU-iIpnRX7",
        "outputId": "5f908769-4864-42cc-e0c6-c4031e97fc53"
      },
      "source": [
        "import nltk\n",
        "nltk.__version__"
      ],
      "execution_count": null,
      "outputs": [
        {
          "output_type": "execute_result",
          "data": {
            "application/vnd.google.colaboratory.intrinsic+json": {
              "type": "string"
            },
            "text/plain": [
              "'3.2.5'"
            ]
          },
          "metadata": {
            "tags": []
          },
          "execution_count": 11
        }
      ]
    },
    {
      "cell_type": "markdown",
      "metadata": {
        "id": "fomr_LSJxAqF"
      },
      "source": [
        "nltk에서 영단어 온톨로지(wordnet) 사용하기"
      ]
    },
    {
      "cell_type": "code",
      "metadata": {
        "colab": {
          "base_uri": "https://localhost:8080/"
        },
        "id": "7h6FIgFxxEvL",
        "outputId": "6d2c64b9-6fc1-426b-8b8d-e4be8c62af77"
      },
      "source": [
        "#https://frhyme.github.io/python-lib/nltk-wordnet/\n",
        "nltk.download('wordnet')"
      ],
      "execution_count": null,
      "outputs": [
        {
          "output_type": "stream",
          "text": [
            "[nltk_data] Downloading package wordnet to /root/nltk_data...\n",
            "[nltk_data]   Unzipping corpora/wordnet.zip.\n"
          ],
          "name": "stdout"
        },
        {
          "output_type": "execute_result",
          "data": {
            "text/plain": [
              "True"
            ]
          },
          "metadata": {
            "tags": []
          },
          "execution_count": 12
        }
      ]
    },
    {
      "cell_type": "code",
      "metadata": {
        "colab": {
          "base_uri": "https://localhost:8080/"
        },
        "id": "xDzO10OVxNtT",
        "outputId": "06eea250-90e8-44fb-bbf7-fb5232b1bc9e"
      },
      "source": [
        "wn = nltk.corpus.wordnet #코퍼스 리더(reader) wordnet corpus reader\n",
        "#synset :유의어 묶음으로 단어-품사-순번으로 구성\n",
        "wn.synsets(\"cat\")"
      ],
      "execution_count": null,
      "outputs": [
        {
          "output_type": "execute_result",
          "data": {
            "text/plain": [
              "[Synset('cat.n.01'),\n",
              " Synset('guy.n.01'),\n",
              " Synset('cat.n.03'),\n",
              " Synset('kat.n.01'),\n",
              " Synset('cat-o'-nine-tails.n.01'),\n",
              " Synset('caterpillar.n.02'),\n",
              " Synset('big_cat.n.01'),\n",
              " Synset('computerized_tomography.n.01'),\n",
              " Synset('cat.v.01'),\n",
              " Synset('vomit.v.01')]"
            ]
          },
          "metadata": {
            "tags": []
          },
          "execution_count": 14
        }
      ]
    },
    {
      "cell_type": "code",
      "metadata": {
        "colab": {
          "base_uri": "https://localhost:8080/"
        },
        "id": "18ttqRATxqVt",
        "outputId": "0fbb45e0-d683-4ef9-e9d4-c297c93bb326"
      },
      "source": [
        "wn.synset('cat.n.01').hypernyms() #hypernyms 상위어\n",
        "wn.synset('cat.n.01').hyponyms() #hyponyms 하위어"
      ],
      "execution_count": null,
      "outputs": [
        {
          "output_type": "execute_result",
          "data": {
            "text/plain": [
              "[Synset('domestic_cat.n.01'), Synset('wildcat.n.03')]"
            ]
          },
          "metadata": {
            "tags": []
          },
          "execution_count": 15
        }
      ]
    },
    {
      "cell_type": "markdown",
      "metadata": {
        "id": "YYdpcAruy3ks"
      },
      "source": [
        "WordNet 사용해서 synset간 의미론적 유사도 계산하기 (0-1사이 실수)\n",
        "0이면 두 단어 서로 관계 없음\n",
        "1이면 완전 유의어"
      ]
    },
    {
      "cell_type": "code",
      "metadata": {
        "colab": {
          "base_uri": "https://localhost:8080/"
        },
        "id": "KskRk1YsyNvp",
        "outputId": "679ee78d-5e85-4874-ca1a-71bf0c2b0c57"
      },
      "source": [
        "# 고양이, 링스: 시라소니 유사도 비교 계산\n",
        "x = wn.synset('cat.n.01') #고양이\n",
        "y= wn.synset('lynx.n.01') #시라소니\n",
        "\n",
        "#x,y 유사도 계산\n",
        "x.path_similarity(y)"
      ],
      "execution_count": null,
      "outputs": [
        {
          "output_type": "execute_result",
          "data": {
            "text/plain": [
              "0.04"
            ]
          },
          "metadata": {
            "tags": []
          },
          "execution_count": 16
        }
      ]
    },
    {
      "cell_type": "code",
      "metadata": {
        "colab": {
          "base_uri": "https://localhost:8080/"
        },
        "id": "WjbZviyQzjP1",
        "outputId": "c8d2a973-4ef2-4204-de2d-41722965f43f"
      },
      "source": [
        "x = wn.synset('cat.n.01') #고양이\n",
        "y= wn.synset('domestic_cat.n.01') #집고양이\n",
        "x.path_similarity(y)"
      ],
      "execution_count": null,
      "outputs": [
        {
          "output_type": "execute_result",
          "data": {
            "text/plain": [
              "0.5"
            ]
          },
          "metadata": {
            "tags": []
          },
          "execution_count": 18
        }
      ]
    },
    {
      "cell_type": "code",
      "metadata": {
        "colab": {
          "base_uri": "https://localhost:8080/"
        },
        "id": "gP1vRBQLz6Qu",
        "outputId": "5a38d529-dce0-4fd1-a7d3-5becff913f37"
      },
      "source": [
        "x = wn.synset('cat.n.01') #고양이\n",
        "y= wn.synset('dog.n.01') #강아지\n",
        "x.path_similarity(y)"
      ],
      "execution_count": null,
      "outputs": [
        {
          "output_type": "execute_result",
          "data": {
            "text/plain": [
              "0.2"
            ]
          },
          "metadata": {
            "tags": []
          },
          "execution_count": 20
        }
      ]
    },
    {
      "cell_type": "code",
      "metadata": {
        "id": "thQmDgnd0SOT"
      },
      "source": [
        "wn.synset('dog.n.01').hyponyms()"
      ],
      "execution_count": null,
      "outputs": []
    },
    {
      "cell_type": "markdown",
      "metadata": {
        "id": "6ahzGRrV6M43"
      },
      "source": [
        "**자연어 처리 정규화**"
      ]
    },
    {
      "cell_type": "code",
      "metadata": {
        "colab": {
          "base_uri": "https://localhost:8080/"
        },
        "id": "0OpZS4dr0d6M",
        "outputId": "5e0bc392-e121-4cbb-8912-69f3b04ca9f6"
      },
      "source": [
        "# 1. 토큰화 (텍스트->단어로 쪼갠다.)\n",
        "\n",
        "from nltk.tokenize import WordPunctTokenizer\n",
        "word_punct = WordPunctTokenizer()\n",
        "text = \"}Help! :))) :[ ..... :D{\"\n",
        "\n",
        "# Tokenizer는 모든 구두점(punctuation; 문장부호)을 기준으로 분리 ->\n",
        "# -> 이모티콘을 이용한 감성 분석 등 문장구조 깊이 분석 할 때 사용\n",
        "\n",
        "word_punct.tokenize(text)\n"
      ],
      "execution_count": null,
      "outputs": [
        {
          "output_type": "execute_result",
          "data": {
            "text/plain": [
              "['}', 'Help', '!', ':)))', ':[', '.....', ':', 'D', '{']"
            ]
          },
          "metadata": {
            "tags": []
          },
          "execution_count": 26
        }
      ]
    },
    {
      "cell_type": "code",
      "metadata": {
        "colab": {
          "base_uri": "https://localhost:8080/"
        },
        "id": "lmLAUvbp5ibG",
        "outputId": "55eac03d-48c6-4821-f388-3b9284132f62"
      },
      "source": [
        "# 단어 토크나이저\n",
        "\n",
        "import nltk\n",
        "nltk.download('punkt')\n",
        "nltk.word_tokenize(text) #단어만 추출할때 좋아"
      ],
      "execution_count": null,
      "outputs": [
        {
          "output_type": "stream",
          "text": [
            "[nltk_data] Downloading package punkt to /root/nltk_data...\n",
            "[nltk_data]   Package punkt is already up-to-date!\n"
          ],
          "name": "stdout"
        },
        {
          "output_type": "execute_result",
          "data": {
            "text/plain": [
              "['}', 'Help', '!', ':', ')', ')', ')', ':', '[', '...', '..', ':', 'D', '{']"
            ]
          },
          "metadata": {
            "tags": []
          },
          "execution_count": 29
        }
      ]
    },
    {
      "cell_type": "code",
      "metadata": {
        "colab": {
          "base_uri": "https://localhost:8080/",
          "height": 35
        },
        "id": "VAeelV8G7Afz",
        "outputId": "4ccc1187-4760-4e8d-fdd9-9540b2a70eb8"
      },
      "source": [
        "#2. 단어의 대소문자를 통잉한다 (전부 다 대문자 or 소문자)\n",
        "#3. 불용어 제거 (stopwords 리스트 참조 THE 같은 것들 제거)\n",
        "#4. 형태소 분석(steming) 단어를 형태소로 변환\n",
        "\n",
        "#포터 형태소 분석기 (보수적)\n",
        "\n",
        "pstemmer = nltk.PorterStemmer()\n",
        "pstemmer.stem(\"wonderful\")\n"
      ],
      "execution_count": null,
      "outputs": [
        {
          "output_type": "execute_result",
          "data": {
            "application/vnd.google.colaboratory.intrinsic+json": {
              "type": "string"
            },
            "text/plain": [
              "'wonder'"
            ]
          },
          "metadata": {
            "tags": []
          },
          "execution_count": 30
        }
      ]
    },
    {
      "cell_type": "code",
      "metadata": {
        "colab": {
          "base_uri": "https://localhost:8080/",
          "height": 35
        },
        "id": "1EonQrrf7cyT",
        "outputId": "72ee06d1-4513-4619-bf8e-be09f80e2af5"
      },
      "source": [
        "#랭커스터 형태소 분석기 (적극적) - 더 많은 동음이의어 형태소 생산\n",
        "lstemmer = nltk.LancasterStemmer()\n",
        "lstemmer.stem('wonderful')"
      ],
      "execution_count": null,
      "outputs": [
        {
          "output_type": "execute_result",
          "data": {
            "application/vnd.google.colaboratory.intrinsic+json": {
              "type": "string"
            },
            "text/plain": [
              "'wond'"
            ]
          },
          "metadata": {
            "tags": []
          },
          "execution_count": 31
        }
      ]
    },
    {
      "cell_type": "code",
      "metadata": {
        "colab": {
          "base_uri": "https://localhost:8080/",
          "height": 35
        },
        "id": "pygZR36T7sZy",
        "outputId": "2b7bb317-2f9e-4193-a3a5-77d0ffa951e7"
      },
      "source": [
        "#5. 원형 추출\n",
        "lemmatizer = nltk.WordNetLemmatizer()\n",
        "lemmatizer.lemmatize('wonderful')"
      ],
      "execution_count": null,
      "outputs": [
        {
          "output_type": "execute_result",
          "data": {
            "application/vnd.google.colaboratory.intrinsic+json": {
              "type": "string"
            },
            "text/plain": [
              "'wonderful'"
            ]
          },
          "metadata": {
            "tags": []
          },
          "execution_count": 32
        }
      ]
    },
    {
      "cell_type": "code",
      "metadata": {
        "colab": {
          "base_uri": "https://localhost:8080/"
        },
        "id": "KCWw6xEr8R4J",
        "outputId": "62cdc71e-dce8-4c29-8052-e0f1768d262d"
      },
      "source": [
        "# 그외 품사 태깅\n",
        "nltk.download('averaged_perceptron_tagger')\n",
        "nltk.pos_tag(['beautiful', 'world']) # JJ adjective(형용사), NN noun(명사)\n",
        "\n",
        "# https://happygrammer.github.io/nlp/postag-set/ 참조\n"
      ],
      "execution_count": null,
      "outputs": [
        {
          "output_type": "stream",
          "text": [
            "[nltk_data] Downloading package averaged_perceptron_tagger to\n",
            "[nltk_data]     /root/nltk_data...\n",
            "[nltk_data]   Unzipping taggers/averaged_perceptron_tagger.zip.\n"
          ],
          "name": "stdout"
        },
        {
          "output_type": "execute_result",
          "data": {
            "text/plain": [
              "[('beautiful', 'JJ'), ('world', 'NN')]"
            ]
          },
          "metadata": {
            "tags": []
          },
          "execution_count": 33
        }
      ]
    },
    {
      "cell_type": "markdown",
      "metadata": {
        "id": "bS8aLrja9FTf"
      },
      "source": [
        ""
      ]
    },
    {
      "cell_type": "code",
      "metadata": {
        "colab": {
          "base_uri": "https://localhost:8080/"
        },
        "id": "Mvh3h90B9DWy",
        "outputId": "b2020523-4841-4234-a00f-61ba21bebd34"
      },
      "source": [
        "# www.networksciencelab.com 사이트에서 하이퍼 링크 정보 모두 가져오기\n",
        "from bs4 import BeautifulSoup\n",
        "from urllib.request import urlopen\n",
        "\n",
        "with urlopen(\"http://www.networksciencelab.com/\") as doc :\n",
        "  soup = BeautifulSoup(doc)\n",
        "\n",
        "# 하이퍼링크만 추출  \n",
        "links =[(link.string, link[\"href\"]) for link in soup.find_all(\"a\") if link.has_attr(\"href\")]\n",
        "\n",
        "# 책 제목만 추출 (리스트형태)\n",
        "html_text = [i[0] for i in links]\n",
        "html_text"
      ],
      "execution_count": null,
      "outputs": [
        {
          "output_type": "execute_result",
          "data": {
            "text/plain": [
              "[None,\n",
              " None,\n",
              " 'DZPYDS',\n",
              " 'DZCNAPY',\n",
              " 'Networks of Music Groups as Success Predictors',\n",
              " 'Network Science Workshop',\n",
              " 'Resilience in Transaction-Oriented Networks',\n",
              " 'Peer Ratings in Massive Online Social Networks',\n",
              " 'Semantic Networks of Interests in Online NSSI Communities',\n",
              " 'Towards an Ideal Store',\n",
              " 'D.Zinoviev, \"Analyzing Cultural Domains with Python,\"',\n",
              " 'D. Zinoviev, D. Stefanescu, G. Fireman, and L. Swenson, \"Semantic networks of interests in online non-suicidal self-injury communities,\"',\n",
              " 'D.Zinoviev, \"The Pain of Complexity,\"',\n",
              " 'D.Zinoviev, Z.Zhu, and K.Li, \"Building mini-categories in product networks,\"',\n",
              " 'D.Zinoviev, H.Benbrahim, G.Meszoely, and D.Stefanescu, \"Mitigation of delayed management costs in transaction-oriented systems,\"',\n",
              " 'D.Zinoviev, H.Benbrahim, G.Meszoely, and D.Stefanescu, \"Simulating resilience in transaction-oriented networks,\"',\n",
              " 'D.Zinoviev, D.Stefanescu, L.Swenson, and G.Fireman, \"Semantic networks of interests in online NSSI communities,\"',\n",
              " 'D.Zinoviev and S.Llewelyn, \"Co-Evolution of Friendship and Publishing in Online Blogging Social Networks,\"',\n",
              " 'D.Zinoviev, \"Information diffusion in social networks,\"',\n",
              " 'D.Zinoviev and V.Duong, \"A game theoretical approach to broadcast  information diffusion in social networks,\"',\n",
              " 'D.Zinoviev and V.Duong, \"A game theoretical approach to modeling full-duplex information dissemination,\"',\n",
              " 'D.Zinoviev, V.Duong, and H.Zhang, \"A game theoretical approach to modeling information dissemination in social networks,\"',\n",
              " 'D.Zinoviev and V.Duong, \"Toward Understanding Friendship in Online Social Networks,\"',\n",
              " 'D.Zinoviev, \"Topology and Geometry of Online Social Networks,\"',\n",
              " 'Vixi: The Game of Meaning',\n",
              " 'Evgenia Cherkasova',\n",
              " 'All Characters from War and Peace by L.Tolstoy',\n",
              " 'Mapping the Bible: Social Networks in the Holy Book',\n",
              " 'FIFA World Cup 2014: Who Beat Whom?',\n",
              " 'The seed post \"9 American habits I lost when I moved to Germany\" and its 125 \"likes\" and \"shares\" on Facebook',\n",
              " 'Email',\n",
              " 'Suffolk University',\n",
              " 'Google Scholar',\n",
              " 'LinkedIn',\n",
              " 'Academia.edu',\n",
              " 'ResearchGate']"
            ]
          },
          "metadata": {
            "tags": []
          },
          "execution_count": 47
        }
      ]
    },
    {
      "cell_type": "code",
      "metadata": {
        "colab": {
          "base_uri": "https://localhost:8080/",
          "height": 125
        },
        "id": "oZotPdSeABVQ",
        "outputId": "6544f41b-60ff-4698-aadf-ec4e9cc7591c"
      },
      "source": [
        "# None 데이터 제거 (리스트에서 하나의 텍스르로 변환)\n",
        "html_text= \" \".join(html_text[2:])  #join으로 연결해서 텍스트 형태로 바뀌었다.\n",
        "html_text"
      ],
      "execution_count": null,
      "outputs": [
        {
          "output_type": "execute_result",
          "data": {
            "application/vnd.google.colaboratory.intrinsic+json": {
              "type": "string"
            },
            "text/plain": [
              "'DZPYDS DZCNAPY Networks of Music Groups as Success Predictors Network Science Workshop Resilience in Transaction-Oriented Networks Peer Ratings in Massive Online Social Networks Semantic Networks of Interests in Online NSSI Communities Towards an Ideal Store D.Zinoviev, \"Analyzing Cultural Domains with Python,\" D. Zinoviev, D. Stefanescu, G. Fireman, and L. Swenson, \"Semantic networks of interests in online non-suicidal self-injury communities,\" D.Zinoviev, \"The Pain of Complexity,\" D.Zinoviev, Z.Zhu, and K.Li, \"Building mini-categories in product networks,\" D.Zinoviev, H.Benbrahim, G.Meszoely, and D.Stefanescu, \"Mitigation of delayed management costs in transaction-oriented systems,\" D.Zinoviev, H.Benbrahim, G.Meszoely, and D.Stefanescu, \"Simulating resilience in transaction-oriented networks,\" D.Zinoviev, D.Stefanescu, L.Swenson, and G.Fireman, \"Semantic networks of interests in online NSSI communities,\" D.Zinoviev and S.Llewelyn, \"Co-Evolution of Friendship and Publishing in Online Blogging Social Networks,\" D.Zinoviev, \"Information diffusion in social networks,\" D.Zinoviev and V.Duong, \"A game theoretical approach to broadcast  information diffusion in social networks,\" D.Zinoviev and V.Duong, \"A game theoretical approach to modeling full-duplex information dissemination,\" D.Zinoviev, V.Duong, and H.Zhang, \"A game theoretical approach to modeling information dissemination in social networks,\" D.Zinoviev and V.Duong, \"Toward Understanding Friendship in Online Social Networks,\" D.Zinoviev, \"Topology and Geometry of Online Social Networks,\" Vixi: The Game of Meaning Evgenia Cherkasova All Characters from War and Peace by L.Tolstoy Mapping the Bible: Social Networks in the Holy Book FIFA World Cup 2014: Who Beat Whom? The seed post \"9 American habits I lost when I moved to Germany\" and its 125 \"likes\" and \"shares\" on Facebook Email Suffolk University Google Scholar LinkedIn Academia.edu ResearchGate'"
            ]
          },
          "metadata": {
            "tags": []
          },
          "execution_count": 48
        }
      ]
    },
    {
      "cell_type": "code",
      "metadata": {
        "id": "MSs_FPBS-IjT"
      },
      "source": [
        "# 하나의 텍스트 => index. html 파일로 저장\n",
        "html_file = open(\"index.html\", 'w')  #쓰려고 열게\n",
        "html_file.write(html_text)\n",
        "html_file.close()"
      ],
      "execution_count": null,
      "outputs": []
    },
    {
      "cell_type": "markdown",
      "metadata": {
        "id": "Mn1guscfXA09"
      },
      "source": [
        "index.html 파일에서 (불용어 제외) 가장 많이 등장한 단어 원형 찾아보기"
      ]
    },
    {
      "cell_type": "code",
      "metadata": {
        "id": "lHr-7KON-v8I"
      },
      "source": [
        "from bs4 import BeautifulSoup\n",
        "from collections import Counter\n",
        "from nltk.corpus import stopwords\n",
        "from nltk import LancasterStemmer\n",
        "\n",
        "#형태소 분류기를 생성한다.\n",
        "ls=nltk.LancasterStemmer()\n",
        "\n",
        "#파일을 읽고 soup을 만든다.\n",
        "with open(\"/content/index.html\") as infile:\n",
        "  soup=BeautifulSoup(infile)\n",
        "  "
      ],
      "execution_count": null,
      "outputs": []
    },
    {
      "cell_type": "code",
      "metadata": {
        "colab": {
          "base_uri": "https://localhost:8080/"
        },
        "id": "qVZYYXVjYYss",
        "outputId": "337fd5a7-a11a-4354-a0f0-8145f53ed065"
      },
      "source": [
        "soup #html태그 그대로 표현되서 별로야"
      ],
      "execution_count": null,
      "outputs": [
        {
          "output_type": "execute_result",
          "data": {
            "text/plain": [
              "<html><body><p>DZPYDS DZCNAPY Networks of Music Groups as Success Predictors Network Science Workshop Resilience in Transaction-Oriented Networks Peer Ratings in Massive Online Social Networks Semantic Networks of Interests in Online NSSI Communities Towards an Ideal Store D.Zinoviev, \"Analyzing Cultural Domains with Python,\" D. Zinoviev, D. Stefanescu, G. Fireman, and L. Swenson, \"Semantic networks of interests in online non-suicidal self-injury communities,\" D.Zinoviev, \"The Pain of Complexity,\" D.Zinoviev, Z.Zhu, and K.Li, \"Building mini-categories in product networks,\" D.Zinoviev, H.Benbrahim, G.Meszoely, and D.Stefanescu, \"Mitigation of delayed management costs in transaction-oriented systems,\" D.Zinoviev, H.Benbrahim, G.Meszoely, and D.Stefanescu, \"Simulating resilience in transaction-oriented networks,\" D.Zinoviev, D.Stefanescu, L.Swenson, and G.Fireman, \"Semantic networks of interests in online NSSI communities,\" D.Zinoviev and S.Llewelyn, \"Co-Evolution of Friendship and Publishing in Online Blogging Social Networks,\" D.Zinoviev, \"Information diffusion in social networks,\" D.Zinoviev and V.Duong, \"A game theoretical approach to broadcast  information diffusion in social networks,\" D.Zinoviev and V.Duong, \"A game theoretical approach to modeling full-duplex information dissemination,\" D.Zinoviev, V.Duong, and H.Zhang, \"A game theoretical approach to modeling information dissemination in social networks,\" D.Zinoviev and V.Duong, \"Toward Understanding Friendship in Online Social Networks,\" D.Zinoviev, \"Topology and Geometry of Online Social Networks,\" Vixi: The Game of Meaning Evgenia Cherkasova All Characters from War and Peace by L.Tolstoy Mapping the Bible: Social Networks in the Holy Book FIFA World Cup 2014: Who Beat Whom? The seed post \"9 American habits I lost when I moved to Germany\" and its 125 \"likes\" and \"shares\" on Facebook Email Suffolk University Google Scholar LinkedIn Academia.edu ResearchGate</p></body></html>"
            ]
          },
          "metadata": {
            "tags": []
          },
          "execution_count": 53
        }
      ]
    },
    {
      "cell_type": "code",
      "metadata": {
        "colab": {
          "base_uri": "https://localhost:8080/",
          "height": 125
        },
        "id": "DJ8zZpOSYg3e",
        "outputId": "285b7858-1615-4e85-c2c5-c80e2b7e7fcb"
      },
      "source": [
        "soup.text #뷰티풀숲이라고 하는 라이브러리 탭에서 가져왔기 때문에 이렇게 표현된다."
      ],
      "execution_count": null,
      "outputs": [
        {
          "output_type": "execute_result",
          "data": {
            "application/vnd.google.colaboratory.intrinsic+json": {
              "type": "string"
            },
            "text/plain": [
              "'DZPYDS DZCNAPY Networks of Music Groups as Success Predictors Network Science Workshop Resilience in Transaction-Oriented Networks Peer Ratings in Massive Online Social Networks Semantic Networks of Interests in Online NSSI Communities Towards an Ideal Store D.Zinoviev, \"Analyzing Cultural Domains with Python,\" D. Zinoviev, D. Stefanescu, G. Fireman, and L. Swenson, \"Semantic networks of interests in online non-suicidal self-injury communities,\" D.Zinoviev, \"The Pain of Complexity,\" D.Zinoviev, Z.Zhu, and K.Li, \"Building mini-categories in product networks,\" D.Zinoviev, H.Benbrahim, G.Meszoely, and D.Stefanescu, \"Mitigation of delayed management costs in transaction-oriented systems,\" D.Zinoviev, H.Benbrahim, G.Meszoely, and D.Stefanescu, \"Simulating resilience in transaction-oriented networks,\" D.Zinoviev, D.Stefanescu, L.Swenson, and G.Fireman, \"Semantic networks of interests in online NSSI communities,\" D.Zinoviev and S.Llewelyn, \"Co-Evolution of Friendship and Publishing in Online Blogging Social Networks,\" D.Zinoviev, \"Information diffusion in social networks,\" D.Zinoviev and V.Duong, \"A game theoretical approach to broadcast  information diffusion in social networks,\" D.Zinoviev and V.Duong, \"A game theoretical approach to modeling full-duplex information dissemination,\" D.Zinoviev, V.Duong, and H.Zhang, \"A game theoretical approach to modeling information dissemination in social networks,\" D.Zinoviev and V.Duong, \"Toward Understanding Friendship in Online Social Networks,\" D.Zinoviev, \"Topology and Geometry of Online Social Networks,\" Vixi: The Game of Meaning Evgenia Cherkasova All Characters from War and Peace by L.Tolstoy Mapping the Bible: Social Networks in the Holy Book FIFA World Cup 2014: Who Beat Whom? The seed post \"9 American habits I lost when I moved to Germany\" and its 125 \"likes\" and \"shares\" on Facebook Email Suffolk University Google Scholar LinkedIn Academia.edu ResearchGate'"
            ]
          },
          "metadata": {
            "tags": []
          },
          "execution_count": 54
        }
      ]
    },
    {
      "cell_type": "code",
      "metadata": {
        "id": "ZGi56rTjYarh"
      },
      "source": [
        "# 1) 텍스트 추출-> 토큰화\n",
        "words = nltk.word_tokenize(soup.text)\n",
        "words"
      ],
      "execution_count": null,
      "outputs": []
    },
    {
      "cell_type": "code",
      "metadata": {
        "id": "WjQmjuEwaSE0"
      },
      "source": [
        "# 2) 단어를 소문자로 변환\n",
        "words = [w.lower()for w in words]\n",
        "words #다 소문자로바꿔줬어"
      ],
      "execution_count": null,
      "outputs": []
    },
    {
      "cell_type": "code",
      "metadata": {
        "colab": {
          "base_uri": "https://localhost:8080/"
        },
        "id": "GHa0y2p6evLv",
        "outputId": "9ac4f846-33e1-4c8c-ddf0-3a41704e17e4"
      },
      "source": [
        "import nltk\n",
        "nltk.download('stopwords')"
      ],
      "execution_count": null,
      "outputs": [
        {
          "output_type": "stream",
          "text": [
            "[nltk_data] Downloading package stopwords to /root/nltk_data...\n",
            "[nltk_data]   Unzipping corpora/stopwords.zip.\n"
          ],
          "name": "stdout"
        },
        {
          "output_type": "execute_result",
          "data": {
            "text/plain": [
              "True"
            ]
          },
          "metadata": {
            "tags": []
          },
          "execution_count": 62
        }
      ]
    },
    {
      "cell_type": "code",
      "metadata": {
        "id": "sdmbZ9jDbAgf"
      },
      "source": [
        "# 3) 불용어를 제거하고 단어의 형태소를 추출\n",
        "# 3-1) 불용어 제거는 stopwords.words('english')\n",
        "# 3-2) 특수기호 제거 isalnum()]\n",
        "words = [ls.stem(w) for w in words if w not in stopwords.words(\"english\") and w.isalnum()] #isalnum() 문자열이 알파벳([a-zA-Z])과 숫자([0-9])로만 구성\n",
        "\n",
        " # 숫자인지 구분, 숫자는 버리겠다.\n",
        " #특수기호가 아니어야돼.\n"
      ],
      "execution_count": null,
      "outputs": []
    },
    {
      "cell_type": "code",
      "metadata": {
        "colab": {
          "base_uri": "https://localhost:8080/"
        },
        "id": "ciMNQztYdseq",
        "outputId": "e930fb41-2f80-4fe9-957f-764e1e0287ef"
      },
      "source": [
        "# 4)가장 빈번하게 등장하는 단어 10개 추출\n",
        "freqs = Counter(words)\n",
        "print(freqs.most_common(10))"
      ],
      "execution_count": null,
      "outputs": [
        {
          "output_type": "stream",
          "text": [
            "[('network', 16), ('soc', 8), ('onlin', 7), ('inform', 4), ('gam', 4), ('sem', 3), ('interest', 3), ('commun', 3), ('theoret', 3), ('approach', 3)]\n"
          ],
          "name": "stdout"
        }
      ]
    },
    {
      "cell_type": "code",
      "metadata": {
        "id": "jOBKJjvsd5Py"
      },
      "source": [
        ""
      ],
      "execution_count": null,
      "outputs": []
    }
  ]
}