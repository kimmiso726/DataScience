{
  "nbformat": 4,
  "nbformat_minor": 0,
  "metadata": {
    "colab": {
      "name": "01_데이터과학을_위한_파이썬_기초.ipynb",
      "provenance": [],
      "authorship_tag": "ABX9TyMMp9sy9plW69f0HEy66rPj",
      "include_colab_link": true
    },
    "kernelspec": {
      "name": "python3",
      "display_name": "Python 3"
    },
    "language_info": {
      "name": "python"
    }
  },
  "cells": [
    {
      "cell_type": "markdown",
      "metadata": {
        "id": "view-in-github",
        "colab_type": "text"
      },
      "source": [
        "<a href=\"https://colab.research.google.com/github/kimmiso726/DataScience/blob/main/01_%EB%8D%B0%EC%9D%B4%ED%84%B0%EA%B3%BC%ED%95%99%EC%9D%84_%EC%9C%84%ED%95%9C_%ED%8C%8C%EC%9D%B4%EC%8D%AC_%EA%B8%B0%EC%B4%88.ipynb\" target=\"_parent\"><img src=\"https://colab.research.google.com/assets/colab-badge.svg\" alt=\"Open In Colab\"/></a>"
      ]
    },
    {
      "cell_type": "markdown",
      "metadata": {
        "id": "yDtViVqyv1si"
      },
      "source": [
        "STRIP() 공백 제거 함수\n"
      ]
    },
    {
      "cell_type": "code",
      "metadata": {
        "colab": {
          "base_uri": "https://localhost:8080/",
          "height": 35
        },
        "id": "8MWxcYjMvkbL",
        "outputId": "997ab003-a0dc-4c33-92fc-c87b8af907c9"
      },
      "source": [
        "st='Hello, world! \\t\\t\\n' #모든 줄 바꿈과 탭 (\\n, \\t, \\t)\n",
        "st"
      ],
      "execution_count": null,
      "outputs": [
        {
          "output_type": "execute_result",
          "data": {
            "application/vnd.google.colaboratory.intrinsic+json": {
              "type": "string"
            },
            "text/plain": [
              "'Hello, world! \\t\\t\\n'"
            ]
          },
          "metadata": {
            "tags": []
          },
          "execution_count": 1
        }
      ]
    },
    {
      "cell_type": "code",
      "metadata": {
        "colab": {
          "base_uri": "https://localhost:8080/",
          "height": 35
        },
        "id": "OSgqMmhzwVtl",
        "outputId": "804e9b59-9b3f-4d3b-e76e-48e058d0c8bd"
      },
      "source": [
        "st.strip() #모든 공백 제거"
      ],
      "execution_count": null,
      "outputs": [
        {
          "output_type": "execute_result",
          "data": {
            "application/vnd.google.colaboratory.intrinsic+json": {
              "type": "string"
            },
            "text/plain": [
              "'Hello, world!'"
            ]
          },
          "metadata": {
            "tags": []
          },
          "execution_count": 3
        }
      ]
    },
    {
      "cell_type": "code",
      "metadata": {
        "colab": {
          "base_uri": "https://localhost:8080/",
          "height": 35
        },
        "id": "yKlXitBpwmFU",
        "outputId": "fa119b13-a64a-4b95-ebdd-ce55c3532b0a"
      },
      "source": [
        "st.lstrip() #왼쪽 공백 제거"
      ],
      "execution_count": null,
      "outputs": [
        {
          "output_type": "execute_result",
          "data": {
            "application/vnd.google.colaboratory.intrinsic+json": {
              "type": "string"
            },
            "text/plain": [
              "'Hello, world! \\t\\t\\n'"
            ]
          },
          "metadata": {
            "tags": []
          },
          "execution_count": 4
        }
      ]
    },
    {
      "cell_type": "code",
      "metadata": {
        "colab": {
          "base_uri": "https://localhost:8080/",
          "height": 35
        },
        "id": "oA7rICi5w0ga",
        "outputId": "e0f4c776-97e8-41ff-8a1b-8c5ad8d906d6"
      },
      "source": [
        "st.rstrip() #오른쪽 공백 제거"
      ],
      "execution_count": null,
      "outputs": [
        {
          "output_type": "execute_result",
          "data": {
            "application/vnd.google.colaboratory.intrinsic+json": {
              "type": "string"
            },
            "text/plain": [
              "'Hello, world!'"
            ]
          },
          "metadata": {
            "tags": []
          },
          "execution_count": 5
        }
      ]
    },
    {
      "cell_type": "markdown",
      "metadata": {
        "id": "D5ao6baVxL0E"
      },
      "source": [
        "문자열 자르기 함수 split(delim=\"\")"
      ]
    },
    {
      "cell_type": "code",
      "metadata": {
        "colab": {
          "base_uri": "https://localhost:8080/"
        },
        "id": "C1an5Z8gxEUg",
        "outputId": "f13ed0ed-875f-4905-93b3-23d2b9dfb64c"
      },
      "source": [
        "'Hello, world!'.split()  #delim 구분자 -> default 공백 : 공백으로 자른다."
      ],
      "execution_count": null,
      "outputs": [
        {
          "output_type": "execute_result",
          "data": {
            "text/plain": [
              "['Hello,', 'world!']"
            ]
          },
          "metadata": {
            "tags": []
          },
          "execution_count": 7
        }
      ]
    },
    {
      "cell_type": "code",
      "metadata": {
        "colab": {
          "base_uri": "https://localhost:8080/"
        },
        "id": "7gsd-F9vxdl1",
        "outputId": "436f13a8-8d33-43d3-ab18-9546c4f97c04"
      },
      "source": [
        "'Hello, world!'.split(\",\") #구분자-> ,(콤마)"
      ],
      "execution_count": null,
      "outputs": [
        {
          "output_type": "execute_result",
          "data": {
            "text/plain": [
              "['Hello', ' world!']"
            ]
          },
          "metadata": {
            "tags": []
          },
          "execution_count": 8
        }
      ]
    },
    {
      "cell_type": "code",
      "metadata": {
        "colab": {
          "base_uri": "https://localhost:8080/"
        },
        "id": "aHM_ssIbx47d",
        "outputId": "f15c6a00-4f5d-4e96-8c4c-5e5af2fe5867"
      },
      "source": [
        "'www.networksciencelab.com'.split(\".\")"
      ],
      "execution_count": null,
      "outputs": [
        {
          "output_type": "execute_result",
          "data": {
            "text/plain": [
              "['www', 'networksciencelab', 'com']"
            ]
          },
          "metadata": {
            "tags": []
          },
          "execution_count": 9
        }
      ]
    },
    {
      "cell_type": "markdown",
      "metadata": {
        "id": "hBFRgsjjyxp5"
      },
      "source": [
        "join(ls)문자열을 연결시키는 함수"
      ]
    },
    {
      "cell_type": "code",
      "metadata": {
        "colab": {
          "base_uri": "https://localhost:8080/",
          "height": 35
        },
        "id": "qVC36r0yyp3U",
        "outputId": "0bf8f2c0-d7e3-492f-82ce-fd8d5aad28b1"
      },
      "source": [
        "\",\".join([\"alpha\",\"bravo\",\"charlie\",\"delta\"]) #어떤 데이터 형식으로 붙이고 싶은지를 앞에다가 넣어주고\n",
        "#문자열 리스트를 하나의 문자열로 붙임"
      ],
      "execution_count": null,
      "outputs": [
        {
          "output_type": "execute_result",
          "data": {
            "application/vnd.google.colaboratory.intrinsic+json": {
              "type": "string"
            },
            "text/plain": [
              "'alpha,bravo,charlie,delta'"
            ]
          },
          "metadata": {
            "tags": []
          },
          "execution_count": 15
        }
      ]
    },
    {
      "cell_type": "code",
      "metadata": {
        "colab": {
          "base_uri": "https://localhost:8080/",
          "height": 35
        },
        "id": "Os17aY1dyZ9y",
        "outputId": "0c3945e9-79cc-45fe-f0e2-b7ea007fd438"
      },
      "source": [
        "\"-\".join(\"1.617.305.1985\".split(\".\")) #split으로 분리한 형식을 -로 다시 붙인다\n"
      ],
      "execution_count": null,
      "outputs": [
        {
          "output_type": "execute_result",
          "data": {
            "application/vnd.google.colaboratory.intrinsic+json": {
              "type": "string"
            },
            "text/plain": [
              "'1-617-305-1985'"
            ]
          },
          "metadata": {
            "tags": []
          },
          "execution_count": 18
        }
      ]
    },
    {
      "cell_type": "code",
      "metadata": {
        "colab": {
          "base_uri": "https://localhost:8080/",
          "height": 35
        },
        "id": "pC_DFjCFzqQ1",
        "outputId": "5f798835-03cf-46f3-e56b-f9c28663c1b4"
      },
      "source": [
        "#1) . 구분자로 다른다.\n",
        "ls=\"1.617.305.1985\".split(\".\")\n",
        "#2. ls를 -구분자로 붙인다.\n",
        "\"-\".join(ls)"
      ],
      "execution_count": null,
      "outputs": [
        {
          "output_type": "execute_result",
          "data": {
            "application/vnd.google.colaboratory.intrinsic+json": {
              "type": "string"
            },
            "text/plain": [
              "'1-617-305-1985'"
            ]
          },
          "metadata": {
            "tags": []
          },
          "execution_count": 22
        }
      ]
    },
    {
      "cell_type": "code",
      "metadata": {
        "colab": {
          "base_uri": "https://localhost:8080/",
          "height": 35
        },
        "id": "gC4117_O0O1V",
        "outputId": "c1ba6b1f-8e6e-4e4a-b54c-b0da8e5e5969"
      },
      "source": [
        "\" \".join(\"This string\\n\\r has many\\t\\tspaces\".split())"
      ],
      "execution_count": null,
      "outputs": [
        {
          "output_type": "execute_result",
          "data": {
            "application/vnd.google.colaboratory.intrinsic+json": {
              "type": "string"
            },
            "text/plain": [
              "'This string has many spaces'"
            ]
          },
          "metadata": {
            "tags": []
          },
          "execution_count": 26
        }
      ]
    },
    {
      "cell_type": "code",
      "metadata": {
        "colab": {
          "base_uri": "https://localhost:8080/",
          "height": 35
        },
        "id": "xgL-jxMR0sr-",
        "outputId": "1f7e554a-0554-41ec-adc8-96f626058eee"
      },
      "source": [
        "#1.\\n\\r 공백 데이터 기준으로 자르기\n",
        "ls = \"This string\\n\\r has many\\t\\tspaces\".split()\n",
        "#2. 공백 한칸으로 재조합\n",
        "\" \".join(ls)"
      ],
      "execution_count": null,
      "outputs": [
        {
          "output_type": "execute_result",
          "data": {
            "application/vnd.google.colaboratory.intrinsic+json": {
              "type": "string"
            },
            "text/plain": [
              "'This string has many spaces'"
            ]
          },
          "metadata": {
            "tags": []
          },
          "execution_count": 28
        }
      ]
    },
    {
      "cell_type": "markdown",
      "metadata": {
        "id": "nwZgJu2Z1rep"
      },
      "source": [
        "find(needle) 해당 문자열에 부문 문자열 needle 처음 등장하는 인덱스 반환(위치) 없으면 -1반환하는 함수 **(대소문자 구분)**"
      ]
    },
    {
      "cell_type": "code",
      "metadata": {
        "colab": {
          "base_uri": "https://localhost:8080/"
        },
        "id": "jAROjd5017Tm",
        "outputId": "97b07ad8-ac41-4b5f-84a5-86688cbdcd6e"
      },
      "source": [
        "'www.networksciencelab.com'.find(\".com\")"
      ],
      "execution_count": null,
      "outputs": [
        {
          "output_type": "execute_result",
          "data": {
            "text/plain": [
              "21"
            ]
          },
          "metadata": {
            "tags": []
          },
          "execution_count": 29
        }
      ]
    },
    {
      "cell_type": "code",
      "metadata": {
        "colab": {
          "base_uri": "https://localhost:8080/"
        },
        "id": "PdKtSCVB2LJN",
        "outputId": "8b68b0bb-e3ff-416b-ece8-a2a04a36f1ed"
      },
      "source": [
        "'www.networksciencelab.com'.find(\".Com\") #대문자 Com이라 없어서 -1반환해줌"
      ],
      "execution_count": null,
      "outputs": [
        {
          "output_type": "execute_result",
          "data": {
            "text/plain": [
              "-1"
            ]
          },
          "metadata": {
            "tags": []
          },
          "execution_count": 31
        }
      ]
    },
    {
      "cell_type": "markdown",
      "metadata": {
        "id": "eXbrtUMM2iOY"
      },
      "source": [
        "count(needle) 해당 문자열에서 등장하는 횟수를 반환하는 함수(대소문자 구분)"
      ]
    },
    {
      "cell_type": "code",
      "metadata": {
        "colab": {
          "base_uri": "https://localhost:8080/"
        },
        "id": "AbzLV1Gb2n-R",
        "outputId": "8315ba50-f887-40d5-a91a-53e76df85f71"
      },
      "source": [
        "'www.networksciencelab.com'.count(\".\")"
      ],
      "execution_count": null,
      "outputs": [
        {
          "output_type": "execute_result",
          "data": {
            "text/plain": [
              "2"
            ]
          },
          "metadata": {
            "tags": []
          },
          "execution_count": 32
        }
      ]
    },
    {
      "cell_type": "code",
      "metadata": {
        "colab": {
          "base_uri": "https://localhost:8080/"
        },
        "id": "3GjBBhjY2wkF",
        "outputId": "6f04de49-feeb-4dc5-8149-dae5034085ae"
      },
      "source": [
        "'www.networksciencelab.com'.count(\"w\")"
      ],
      "execution_count": null,
      "outputs": [
        {
          "output_type": "execute_result",
          "data": {
            "text/plain": [
              "4"
            ]
          },
          "metadata": {
            "tags": []
          },
          "execution_count": 33
        }
      ]
    },
    {
      "cell_type": "code",
      "metadata": {
        "colab": {
          "base_uri": "https://localhost:8080/"
        },
        "id": "hffXpITY23pw",
        "outputId": "f776300f-851d-445d-ce89-6c47ba9334ff"
      },
      "source": [
        "'www.networksciencelab.com'.count(\"C\") #대문자라 못찾음, 인덱스가 아니라서 0으로 반환"
      ],
      "execution_count": null,
      "outputs": [
        {
          "output_type": "execute_result",
          "data": {
            "text/plain": [
              "0"
            ]
          },
          "metadata": {
            "tags": []
          },
          "execution_count": 35
        }
      ]
    },
    {
      "cell_type": "markdown",
      "metadata": {
        "id": "LXEU7tCL3Sx8"
      },
      "source": [
        "predicate 함수 -> 문자열 s가 특정 클래스에 속하는지 True, False로 반환"
      ]
    },
    {
      "cell_type": "code",
      "metadata": {
        "colab": {
          "base_uri": "https://localhost:8080/"
        },
        "id": "mEdmnWb-3HpH",
        "outputId": "9512b09b-4fbf-46fb-8099-a925798827f7"
      },
      "source": [
        "'www.networksciencelab.com'.islower() #is~? 소문자니?"
      ],
      "execution_count": null,
      "outputs": [
        {
          "output_type": "execute_result",
          "data": {
            "text/plain": [
              "True"
            ]
          },
          "metadata": {
            "tags": []
          },
          "execution_count": 36
        }
      ]
    },
    {
      "cell_type": "code",
      "metadata": {
        "colab": {
          "base_uri": "https://localhost:8080/"
        },
        "id": "kqJrd3Z73nhr",
        "outputId": "0c57a209-4723-4ef6-d0b8-d2519610f4d0"
      },
      "source": [
        "'www.networksciencelab.com'.isupper() #모든 알파벳 문자가 대문자인지 체크"
      ],
      "execution_count": null,
      "outputs": [
        {
          "output_type": "execute_result",
          "data": {
            "text/plain": [
              "False"
            ]
          },
          "metadata": {
            "tags": []
          },
          "execution_count": 38
        }
      ]
    },
    {
      "cell_type": "code",
      "metadata": {
        "colab": {
          "base_uri": "https://localhost:8080/"
        },
        "id": "9n-kbAxd4V0u",
        "outputId": "25743008-e46d-49f7-9d5a-f4c60c5b35d0"
      },
      "source": [
        "'www.networksciencelab.com'.isdigit() #0~9 사이 숫자인지 확인"
      ],
      "execution_count": null,
      "outputs": [
        {
          "output_type": "execute_result",
          "data": {
            "text/plain": [
              "False"
            ]
          },
          "metadata": {
            "tags": []
          },
          "execution_count": 39
        }
      ]
    },
    {
      "cell_type": "code",
      "metadata": {
        "colab": {
          "base_uri": "https://localhost:8080/"
        },
        "id": "Y8rUnxT-4dV1",
        "outputId": "219c3b0c-783b-4ea1-e40d-e1c0be466513"
      },
      "source": [
        "'www.networksciencelab.com'.isalpha() # '.'땜에 안나와 dot(.)제거해야 나온다\n",
        "#알파벳(숫자, 특수기호X)인지 체크"
      ],
      "execution_count": null,
      "outputs": [
        {
          "output_type": "execute_result",
          "data": {
            "text/plain": [
              "False"
            ]
          },
          "metadata": {
            "tags": []
          },
          "execution_count": 44
        }
      ]
    },
    {
      "cell_type": "code",
      "metadata": {
        "colab": {
          "base_uri": "https://localhost:8080/"
        },
        "id": "3b7cFBch4kvc",
        "outputId": "82f8762d-34e1-4c59-c790-bd4cc482030d"
      },
      "source": [
        "'wwwnetworksciencelabcom'.isalpha()"
      ],
      "execution_count": null,
      "outputs": [
        {
          "output_type": "execute_result",
          "data": {
            "text/plain": [
              "True"
            ]
          },
          "metadata": {
            "tags": []
          },
          "execution_count": 43
        }
      ]
    },
    {
      "cell_type": "markdown",
      "metadata": {
        "id": "0j925kkD5CoX"
      },
      "source": [
        "대·소문자 변환 함수 -> 모든 문자 대소문자 변환(문자열 s의 복사본 반환) "
      ]
    },
    {
      "cell_type": "code",
      "metadata": {
        "colab": {
          "base_uri": "https://localhost:8080/",
          "height": 35
        },
        "id": "5I15VbiD4vFe",
        "outputId": "2f109858-6f94-4020-9226-623fd442f879"
      },
      "source": [
        "st='www.networksciencelab.com'.upper()\n",
        "st"
      ],
      "execution_count": null,
      "outputs": [
        {
          "output_type": "execute_result",
          "data": {
            "application/vnd.google.colaboratory.intrinsic+json": {
              "type": "string"
            },
            "text/plain": [
              "'WWW.NETWORKSCIENCELAB.COM'"
            ]
          },
          "metadata": {
            "tags": []
          },
          "execution_count": 45
        }
      ]
    },
    {
      "cell_type": "code",
      "metadata": {
        "colab": {
          "base_uri": "https://localhost:8080/",
          "height": 35
        },
        "id": "gzbjqohV5YHF",
        "outputId": "2b0423a0-48d6-47cc-edde-7fc51e52e61c"
      },
      "source": [
        "st.lower()"
      ],
      "execution_count": null,
      "outputs": [
        {
          "output_type": "execute_result",
          "data": {
            "application/vnd.google.colaboratory.intrinsic+json": {
              "type": "string"
            },
            "text/plain": [
              "'www.networksciencelab.com'"
            ]
          },
          "metadata": {
            "tags": []
          },
          "execution_count": 46
        }
      ]
    },
    {
      "cell_type": "code",
      "metadata": {
        "colab": {
          "base_uri": "https://localhost:8080/",
          "height": 35
        },
        "id": "opoGywwL5bqN",
        "outputId": "dcdd0206-6da8-4e56-9434-890a598c8515"
      },
      "source": [
        "st  #그대로 대분자 s 나온다. 소문자로 바뀐거 담고 싶음 한번 더 담아야 된다."
      ],
      "execution_count": null,
      "outputs": [
        {
          "output_type": "execute_result",
          "data": {
            "application/vnd.google.colaboratory.intrinsic+json": {
              "type": "string"
            },
            "text/plain": [
              "'WWW.NETWORKSCIENCELAB.COM'"
            ]
          },
          "metadata": {
            "tags": []
          },
          "execution_count": 48
        }
      ]
    },
    {
      "cell_type": "code",
      "metadata": {
        "colab": {
          "base_uri": "https://localhost:8080/",
          "height": 35
        },
        "id": "nG2fN6ca5doR",
        "outputId": "e02c5be1-e073-4390-c108-6af24b49cc41"
      },
      "source": [
        "st=st.lower()\n",
        "st"
      ],
      "execution_count": null,
      "outputs": [
        {
          "output_type": "execute_result",
          "data": {
            "application/vnd.google.colaboratory.intrinsic+json": {
              "type": "string"
            },
            "text/plain": [
              "'www.networksciencelab.com'"
            ]
          },
          "metadata": {
            "tags": []
          },
          "execution_count": 53
        }
      ]
    },
    {
      "cell_type": "markdown",
      "metadata": {
        "id": "mjgu5qgJNqmH"
      },
      "source": [
        "2. 올바른 자료구조 선택하기\n",
        "중복된 아이템이 있는 리스트->mylist"
      ]
    },
    {
      "cell_type": "code",
      "metadata": {
        "colab": {
          "base_uri": "https://localhost:8080/"
        },
        "id": "diY7pjIP5olE",
        "outputId": "b121c925-91b3-4ab6-d531-e09c9f5a1e7d"
      },
      "source": [
        "myList = \"This string\\n\\r has many\\t\\tspaces\\tThis string\\n\\r has many\\t\\tspaces\".split()\n",
        "myList\n",
        "print(myList)"
      ],
      "execution_count": null,
      "outputs": [
        {
          "output_type": "stream",
          "text": [
            "['This', 'string', 'has', 'many', 'spaces', 'This', 'string', 'has', 'many', 'spaces']\n"
          ],
          "name": "stdout"
        }
      ]
    },
    {
      "cell_type": "markdown",
      "metadata": {
        "id": "GEruOHMrOO0d"
      },
      "source": [
        "리스트->셋 변환-> 다시 리스트로 변환"
      ]
    },
    {
      "cell_type": "code",
      "metadata": {
        "id": "YRsha5_bN4YK"
      },
      "source": [
        "#1) 셋 변환 (중복제거)\n",
        "set(myList)     #셋은 순서가 없고 중복이 안된다.\n",
        "#2)중복 제거한 데이터를 리스트로 변환\n",
        "myList=list(set(myList))"
      ],
      "execution_count": null,
      "outputs": []
    },
    {
      "cell_type": "code",
      "metadata": {
        "colab": {
          "base_uri": "https://localhost:8080/"
        },
        "id": "CsFxCsdxOarf",
        "outputId": "f7d17518-8bd1-4924-d84b-72c3c08a7c24"
      },
      "source": [
        "myList"
      ],
      "execution_count": null,
      "outputs": [
        {
          "output_type": "execute_result",
          "data": {
            "text/plain": [
              "['many', 'This', 'spaces', 'has', 'string']"
            ]
          },
          "metadata": {
            "tags": []
          },
          "execution_count": 9
        }
      ]
    },
    {
      "cell_type": "markdown",
      "metadata": {
        "id": "pwCqPlEvPab7"
      },
      "source": [
        "리스트vs셋 회원 명단 조회하기\n",
        "\n"
      ]
    },
    {
      "cell_type": "code",
      "metadata": {
        "id": "dPS55pqPPQBz",
        "colab": {
          "base_uri": "https://localhost:8080/"
        },
        "outputId": "e8b53523-e628-4912-c862-740b0d5f3958"
      },
      "source": [
        "bigList=[str(i) for i in range(10000000)] #리스트 내포\n",
        "\"abc\" in bigList # bigList 리스트에 abc 데이터 in(포함) 되어 있는지 확인\n"
      ],
      "execution_count": null,
      "outputs": [
        {
          "output_type": "execute_result",
          "data": {
            "text/plain": [
              "False"
            ]
          },
          "metadata": {
            "tags": []
          },
          "execution_count": 20
        }
      ]
    },
    {
      "cell_type": "code",
      "metadata": {
        "id": "Kf6Dfj0fPsfz",
        "colab": {
          "base_uri": "https://localhost:8080/"
        },
        "outputId": "5765d79f-9793-41e8-f07a-faeccab45f5e"
      },
      "source": [
        "bigList=set(bigList) #셋으로 변환하면 중복 제거 되기 때문에 데이터 조회 시 빠름\n",
        "\"abc\" in bigList"
      ],
      "execution_count": null,
      "outputs": [
        {
          "output_type": "execute_result",
          "data": {
            "text/plain": [
              "False"
            ]
          },
          "metadata": {
            "tags": []
          },
          "execution_count": 3
        }
      ]
    },
    {
      "cell_type": "markdown",
      "metadata": {
        "id": "zGbyZ7QrRlTP"
      },
      "source": [
        "딕셔너리 (키-값으로 검색해야 할 때 매우 유용)\n",
        "\n",
        "\n"
      ]
    },
    {
      "cell_type": "markdown",
      "metadata": {
        "id": "UVPPM74aTkzP"
      },
      "source": [
        "리스트 딕셔너리 만들기 -enumerate사용"
      ]
    },
    {
      "cell_type": "code",
      "metadata": {
        "id": "z_YkR_3EQUu3",
        "colab": {
          "base_uri": "https://localhost:8080/"
        },
        "outputId": "34bf4dc8-eff7-4dbb-c5c0-da0313fdea98"
      },
      "source": [
        "#1. 리스트 준비\n",
        "seq=[\"alpha\",\"bravo\",\"charlie\",\"delta\"]\n",
        "#2. 딕셔너리 만들기\n",
        "dict(enumerate(seq))\n",
        "  #key와 value 값으로 구분시켜준다. 인덱스를 key로 Data를 value로 만듦"
      ],
      "execution_count": null,
      "outputs": [
        {
          "output_type": "execute_result",
          "data": {
            "text/plain": [
              "{0: 'alpha', 1: 'bravo', 2: 'charlie', 3: 'delta'}"
            ]
          },
          "metadata": {
            "tags": []
          },
          "execution_count": 28
        }
      ]
    },
    {
      "cell_type": "markdown",
      "metadata": {
        "id": "6cQqxUkwTrle"
      },
      "source": [
        "리스트 딕셔너리 만들기 - 키순서열과 값 순서열에 클래스 생성자인 zip(key, value) 사용"
      ]
    },
    {
      "cell_type": "code",
      "metadata": {
        "colab": {
          "base_uri": "https://localhost:8080/"
        },
        "id": "_dwlKng1Shnr",
        "outputId": "f1dc4152-2674-4bce-de8b-058da60387a6"
      },
      "source": [
        "kseq=\"abcd\" #문자열 또한 순서열이다.\n",
        "vseq=[\"alpha\",\"bravo\",\"charlie\",\"delta\"]\n",
        "\n",
        "dict(zip(kseq,vseq))"
      ],
      "execution_count": null,
      "outputs": [
        {
          "output_type": "execute_result",
          "data": {
            "text/plain": [
              "{'a': 'alpha', 'b': 'bravo', 'c': 'charlie', 'd': 'delta'}"
            ]
          },
          "metadata": {
            "tags": []
          },
          "execution_count": 30
        }
      ]
    },
    {
      "cell_type": "code",
      "metadata": {
        "colab": {
          "base_uri": "https://localhost:8080/"
        },
        "id": "9jgKfwULURDO",
        "outputId": "c076af99-63f7-43b5-e436-4aa2c61158fb"
      },
      "source": [
        "kseq=\"aaaa\"\n",
        "vseq=[\"alpha\",\"bravo\",\"charlie\",\"delta\"]\n",
        "dict(zip(kseq,vseq))"
      ],
      "execution_count": null,
      "outputs": [
        {
          "output_type": "execute_result",
          "data": {
            "text/plain": [
              "{'a': 'delta'}"
            ]
          },
          "metadata": {
            "tags": []
          },
          "execution_count": 19
        }
      ]
    },
    {
      "cell_type": "markdown",
      "metadata": {
        "id": "rKx1PYF0aOhJ"
      },
      "source": [
        "카운터 (counter)는 딕셔너리 스타일의 컬렉션에서 다른 컬렉션 안의 아이템 개수 셀 때 사용"
      ]
    },
    {
      "cell_type": "code",
      "metadata": {
        "colab": {
          "base_uri": "https://localhost:8080/"
        },
        "id": "LJwUCBpyUY2t",
        "outputId": "f3fef0f0-0f37-471c-80ff-2bcabc1a67d2"
      },
      "source": [
        "from collections import Counter\n",
        "\n",
        "phrase= \"a man a plan a canal panama\"\n",
        "ls=phrase.split()\n",
        "ls"
      ],
      "execution_count": null,
      "outputs": [
        {
          "output_type": "execute_result",
          "data": {
            "text/plain": [
              "['a', 'man', 'a', 'plan', 'a', 'canal', 'panama']"
            ]
          },
          "metadata": {
            "tags": []
          },
          "execution_count": 26
        }
      ]
    },
    {
      "cell_type": "code",
      "metadata": {
        "colab": {
          "base_uri": "https://localhost:8080/"
        },
        "id": "t_ATqay5cPaB",
        "outputId": "83b0561e-e7c9-449f-8636-28c29e54d818"
      },
      "source": [
        "cntr=Counter(ls)\n",
        "cntr.most_common()"
      ],
      "execution_count": null,
      "outputs": [
        {
          "output_type": "execute_result",
          "data": {
            "text/plain": [
              "[('a', 3), ('man', 1), ('plan', 1), ('canal', 1), ('panama', 1)]"
            ]
          },
          "metadata": {
            "tags": []
          },
          "execution_count": 27
        }
      ]
    },
    {
      "cell_type": "code",
      "metadata": {
        "colab": {
          "base_uri": "https://localhost:8080/"
        },
        "id": "0AIrIkyLaujF",
        "outputId": "757a760f-fba4-4ed0-d326-c33ce76e63fb"
      },
      "source": [
        "cntr"
      ],
      "execution_count": null,
      "outputs": [
        {
          "output_type": "execute_result",
          "data": {
            "text/plain": [
              "Counter({'a': 3, 'canal': 1, 'man': 1, 'panama': 1, 'plan': 1})"
            ]
          },
          "metadata": {
            "tags": []
          },
          "execution_count": 23
        }
      ]
    },
    {
      "cell_type": "code",
      "metadata": {
        "colab": {
          "base_uri": "https://localhost:8080/"
        },
        "id": "_-S5KnXVa-eS",
        "outputId": "09050e42-f016-49ed-f9e4-67575f65da4a"
      },
      "source": [
        "cntr= Counter(phrase.split())\n",
        "\n",
        "cntr.most_common()  #가장 빈번하게 등장한 n개의 아이템과 빈도 추출"
      ],
      "execution_count": null,
      "outputs": [
        {
          "output_type": "execute_result",
          "data": {
            "text/plain": [
              "[('a', 3), ('man', 1), ('plan', 1), ('canal', 1), ('panama', 1)]"
            ]
          },
          "metadata": {
            "tags": []
          },
          "execution_count": 29
        }
      ]
    },
    {
      "cell_type": "markdown",
      "metadata": {
        "id": "oVlS3gY-cf9o"
      },
      "source": [
        "출력한 리스트를 딕셔너리로 변환하면 가독성이 좋아짐"
      ]
    },
    {
      "cell_type": "code",
      "metadata": {
        "colab": {
          "base_uri": "https://localhost:8080/"
        },
        "id": "ZrAFFpGEcbdH",
        "outputId": "6d43a331-d858-42d8-eb55-c481cc18b7d9"
      },
      "source": [
        "cntrDict = dict(cntr.most_common()) #key : 추출된 아이템, value : 아이템 빈도\n",
        "cntrDict"
      ],
      "execution_count": null,
      "outputs": [
        {
          "output_type": "execute_result",
          "data": {
            "text/plain": [
              "{'a': 3, 'canal': 1, 'man': 1, 'panama': 1, 'plan': 1}"
            ]
          },
          "metadata": {
            "tags": []
          },
          "execution_count": 30
        }
      ]
    },
    {
      "cell_type": "code",
      "metadata": {
        "colab": {
          "base_uri": "https://localhost:8080/"
        },
        "id": "rw8af-LZczLJ",
        "outputId": "88c1f51d-4589-491f-e19e-3c5351d567ee"
      },
      "source": [
        "cntrDict['plan']"
      ],
      "execution_count": null,
      "outputs": [
        {
          "output_type": "execute_result",
          "data": {
            "text/plain": [
              "1"
            ]
          },
          "metadata": {
            "tags": []
          },
          "execution_count": 31
        }
      ]
    },
    {
      "cell_type": "markdown",
      "metadata": {
        "id": "PQNzi0FNeFMb"
      },
      "source": [
        "웹에 접근하기"
      ]
    },
    {
      "cell_type": "code",
      "metadata": {
        "colab": {
          "base_uri": "https://localhost:8080/"
        },
        "id": "4Vb2tq4Ec2TY",
        "outputId": "3b1375cd-c4e5-483b-a913-caf5edbbd899"
      },
      "source": [
        "#오류가 발생했을 때 그냥 넘어가게 처리하는 법\n",
        "import urllib.request\n",
        "try: \n",
        "  with urllib.urlopen(\"http://networksciencelab.com\") as doc:\n",
        "    html=doc.read()\n",
        "    print(html)\n",
        "except :\n",
        "  print(\"could not open\") \n"
      ],
      "execution_count": null,
      "outputs": [
        {
          "output_type": "stream",
          "text": [
            "could not open\n"
          ],
          "name": "stdout"
        }
      ]
    },
    {
      "cell_type": "code",
      "metadata": {
        "colab": {
          "base_uri": "https://localhost:8080/",
          "height": 239
        },
        "id": "ffbxFG2me-qD",
        "outputId": "befbedca-914d-4f56-dbb8-010d7b92ad13"
      },
      "source": [
        "import urllib.request\n",
        "\n",
        "with urllib.urlopen(\"http://networksciencelab.com\") as doc:\n",
        "  html=doc.read()\n",
        "  print(html)"
      ],
      "execution_count": null,
      "outputs": [
        {
          "output_type": "error",
          "ename": "AttributeError",
          "evalue": "ignored",
          "traceback": [
            "\u001b[0;31m---------------------------------------------------------------------------\u001b[0m",
            "\u001b[0;31mAttributeError\u001b[0m                            Traceback (most recent call last)",
            "\u001b[0;32m<ipython-input-34-21bb3b1dda29>\u001b[0m in \u001b[0;36m<module>\u001b[0;34m()\u001b[0m\n\u001b[1;32m      1\u001b[0m \u001b[0;32mimport\u001b[0m \u001b[0murllib\u001b[0m\u001b[0;34m.\u001b[0m\u001b[0mrequest\u001b[0m\u001b[0;34m\u001b[0m\u001b[0;34m\u001b[0m\u001b[0m\n\u001b[1;32m      2\u001b[0m \u001b[0;34m\u001b[0m\u001b[0m\n\u001b[0;32m----> 3\u001b[0;31m \u001b[0;32mwith\u001b[0m \u001b[0murllib\u001b[0m\u001b[0;34m.\u001b[0m\u001b[0murlopen\u001b[0m\u001b[0;34m(\u001b[0m\u001b[0;34m\"http://networksciencelab.com\"\u001b[0m\u001b[0;34m)\u001b[0m \u001b[0;32mas\u001b[0m \u001b[0mdoc\u001b[0m\u001b[0;34m:\u001b[0m\u001b[0;34m\u001b[0m\u001b[0;34m\u001b[0m\u001b[0m\n\u001b[0m\u001b[1;32m      4\u001b[0m   \u001b[0mhtml\u001b[0m\u001b[0;34m=\u001b[0m\u001b[0mdoc\u001b[0m\u001b[0;34m.\u001b[0m\u001b[0mread\u001b[0m\u001b[0;34m(\u001b[0m\u001b[0;34m)\u001b[0m\u001b[0;34m\u001b[0m\u001b[0;34m\u001b[0m\u001b[0m\n\u001b[1;32m      5\u001b[0m   \u001b[0mprint\u001b[0m\u001b[0;34m(\u001b[0m\u001b[0mhtml\u001b[0m\u001b[0;34m)\u001b[0m\u001b[0;34m\u001b[0m\u001b[0;34m\u001b[0m\u001b[0m\n",
            "\u001b[0;31mAttributeError\u001b[0m: module 'urllib' has no attribute 'urlopen'"
          ]
        }
      ]
    },
    {
      "cell_type": "code",
      "metadata": {
        "colab": {
          "base_uri": "https://localhost:8080/"
        },
        "id": "gftYHJOfgGVr",
        "outputId": "17b1f074-ae6c-4007-8981-4f6f2716b49e"
      },
      "source": [
        "import urllib.parse  #읽어들여서 불러와?\n",
        "URL = \"http://networksciencelab.com/index.html;param?foo=bar#content\"\n",
        " # url 파싱하여 6개의 아이템으로 구성된 튜플로 분리 스키마 네트워크 주소, 파일 시스템 경로, 파라미터, 쿼리, 플래그먼트\n",
        "#튜플->절대 변하지 않는 구조\n",
        "urllib.parse.urlparse(URL)"
      ],
      "execution_count": null,
      "outputs": [
        {
          "output_type": "execute_result",
          "data": {
            "text/plain": [
              "ParseResult(scheme='http', netloc='networksciencelab.com', path='/index.html', params='param', query='foo=bar', fragment='content')"
            ]
          },
          "metadata": {
            "tags": []
          },
          "execution_count": 36
        }
      ]
    },
    {
      "cell_type": "markdown",
      "metadata": {
        "id": "cLVA2wAboYMr"
      },
      "source": [
        "정규식"
      ]
    },
    {
      "cell_type": "code",
      "metadata": {
        "colab": {
          "base_uri": "https://localhost:8080/"
        },
        "id": "0SWZO6eyhKEJ",
        "outputId": "a8b9d15e-c7d6-4712-cfbc-05d33ff895dc"
      },
      "source": [
        "a=\"abcdef\\n\"\n",
        "print(a)\n",
        "\n",
        "b=r'abcedf\\t' #원천 문자열(raw string)로 인식\n",
        "print(b)"
      ],
      "execution_count": null,
      "outputs": [
        {
          "output_type": "stream",
          "text": [
            "abcdef\n",
            "\n",
            "abcedf\\t\n"
          ],
          "name": "stdout"
        }
      ]
    },
    {
      "cell_type": "code",
      "metadata": {
        "colab": {
          "base_uri": "https://localhost:8080/"
        },
        "id": "-SfmnQbjouCJ",
        "outputId": "551473b5-fa82-448a-9578-b55a5a4e9239"
      },
      "source": [
        "import re\n",
        "re.compile(r'(\\d+)/(\\d+)/(\\d+)')  #raw string-> 0/0/0/ 1/1/1 3/3/3"
      ],
      "execution_count": null,
      "outputs": [
        {
          "output_type": "execute_result",
          "data": {
            "text/plain": [
              "re.compile(r'(\\d+)/(\\d+)/(\\d+)', re.UNICODE)"
            ]
          },
          "metadata": {
            "tags": []
          },
          "execution_count": 40
        }
      ]
    },
    {
      "cell_type": "code",
      "metadata": {
        "colab": {
          "base_uri": "https://localhost:8080/"
        },
        "id": "3LT6AAxDqDqu",
        "outputId": "6048c310-0093-49ba-f619-b7834cd54a76"
      },
      "source": [
        "re.compile('(\\\\d+)/(\\\\d+)/(\\\\d+)') #raw string 사용하지 않으면, 슬래시를 두번 사용해야 하는 불편함\n",
        "# 그래서 r 붙여줌"
      ],
      "execution_count": null,
      "outputs": [
        {
          "output_type": "execute_result",
          "data": {
            "text/plain": [
              "re.compile(r'(\\d+)/(\\d+)/(\\d+)', re.UNICODE)"
            ]
          },
          "metadata": {
            "tags": []
          },
          "execution_count": 41
        }
      ]
    },
    {
      "cell_type": "markdown",
      "metadata": {
        "id": "TV1R4jlvqZFn"
      },
      "source": [
        "정규 표현식으로 패턴매칭하기\n",
        "\n",
        "re.split() 함수 단어 분석을 위한 기본적인 단어 토크나이저로 사용할 수 있음"
      ]
    },
    {
      "cell_type": "code",
      "metadata": {
        "colab": {
          "base_uri": "https://localhost:8080/"
        },
        "id": "O7jvLHmJqVmW",
        "outputId": "2b0b0f52-1f4b-4c92-e413-659d7ee7d67e"
      },
      "source": [
        "import re \n",
        "re.split(r\"[a-z A-Z]\", \"Hello, world!\") #r\"\\W\" -> 숫자, 알파벳 제외한 개체1개-> 잘라라"
      ],
      "execution_count": null,
      "outputs": [
        {
          "output_type": "execute_result",
          "data": {
            "text/plain": [
              "['', '', '', '', '', ',', '', '', '', '', '', '!']"
            ]
          },
          "metadata": {
            "tags": []
          },
          "execution_count": 26
        }
      ]
    },
    {
      "cell_type": "code",
      "metadata": {
        "colab": {
          "base_uri": "https://localhost:8080/"
        },
        "id": "ZDNfhbiKqYuk",
        "outputId": "1944c324-f28d-4fbc-ea36-17a22406c165"
      },
      "source": [
        "#인근에 위치한 비문자(non-letter) (,)를 합친다.\n",
        "re.split(r\"\\W+\", \"Hello, world!\") #r\"\\W+\"알파벳이나 숫자가 아닌 개체 1개 이상을 합친다(+)"
      ],
      "execution_count": null,
      "outputs": [
        {
          "output_type": "execute_result",
          "data": {
            "text/plain": [
              "['Hello', 'world', '']"
            ]
          },
          "metadata": {
            "tags": []
          },
          "execution_count": 47
        }
      ]
    },
    {
      "cell_type": "code",
      "metadata": {
        "colab": {
          "base_uri": "https://localhost:8080/"
        },
        "id": "Xpq-qW8VsZKG",
        "outputId": "9a7f5518-55fb-44d4-9006-c56ab92d84e4"
      },
      "source": [
        "mo = re.match(r\"\\d+\", \"067 Starts with a number\")  #숫자 나올때까지 찾아..\n",
        "mo"
      ],
      "execution_count": null,
      "outputs": [
        {
          "output_type": "execute_result",
          "data": {
            "text/plain": [
              "<re.Match object; span=(0, 3), match='067'>"
            ]
          },
          "metadata": {
            "tags": []
          },
          "execution_count": 70
        }
      ]
    },
    {
      "cell_type": "code",
      "metadata": {
        "colab": {
          "base_uri": "https://localhost:8080/",
          "height": 35
        },
        "id": "VoS07DsFtd5w",
        "outputId": "c8e27db7-1736-42d2-db72-f4e18b42feaf"
      },
      "source": [
        "mo.group()"
      ],
      "execution_count": null,
      "outputs": [
        {
          "output_type": "execute_result",
          "data": {
            "application/vnd.google.colaboratory.intrinsic+json": {
              "type": "string"
            },
            "text/plain": [
              "'067'"
            ]
          },
          "metadata": {
            "tags": []
          },
          "execution_count": 49
        }
      ]
    },
    {
      "cell_type": "code",
      "metadata": {
        "colab": {
          "base_uri": "https://localhost:8080/"
        },
        "id": "rLv-y_pRt4BY",
        "outputId": "ebce8e0b-334e-496a-c8da-d36dcc8a7126"
      },
      "source": [
        "print(re.match(r\"\\d+\", \"Does not 010 Starts with a number\")) #매치는 첫문장에서만 숫자 찾아."
      ],
      "execution_count": null,
      "outputs": [
        {
          "output_type": "stream",
          "text": [
            "None\n"
          ],
          "name": "stdout"
        }
      ]
    },
    {
      "cell_type": "code",
      "metadata": {
        "colab": {
          "base_uri": "https://localhost:8080/",
          "height": 35
        },
        "id": "kUmPVIqcuJWa",
        "outputId": "c283296f-31d9-4019-c663-255a569f6267"
      },
      "source": [
        "#중간에 문자나 숫자열 찾고 싶을때는 search\n",
        "#search 문자열 일부분이 정규식과 매칭되는지 확인 (매칭되는게 앞부분에 없다면 이 함수 사용)\n",
        "#[a-z] : 소문자들만 일치, +끝까지..\n",
        "#re.I : 대소문자 구분하지 않음\n",
        "re.search(r\"[a-z]+\", \"0010010 Has at least one 010 letter 0010010\").group()"
      ],
      "execution_count": null,
      "outputs": [
        {
          "output_type": "execute_result",
          "data": {
            "application/vnd.google.colaboratory.intrinsic+json": {
              "type": "string"
            },
            "text/plain": [
              "'as'"
            ]
          },
          "metadata": {
            "tags": []
          },
          "execution_count": 73
        }
      ]
    },
    {
      "cell_type": "code",
      "metadata": {
        "colab": {
          "base_uri": "https://localhost:8080/",
          "height": 35
        },
        "id": "Q_AtG2QbvQMQ",
        "outputId": "fba4f0c9-b536-4984-ab60-1bac6d508dbc"
      },
      "source": [
        "#search 문자열 일부분이 정규식과 매칭되는지 확인 (매칭되는게 앞부분에 없다면 이 함수 사용)\n",
        "#[A-Z] : 대문자들만 일치\n",
        "re.search(r\"[A-Z]+\", \"0010010 has at least ONE 010 letter 0010010\").group()"
      ],
      "execution_count": null,
      "outputs": [
        {
          "output_type": "execute_result",
          "data": {
            "application/vnd.google.colaboratory.intrinsic+json": {
              "type": "string"
            },
            "text/plain": [
              "'ONE'"
            ]
          },
          "metadata": {
            "tags": []
          },
          "execution_count": 58
        }
      ]
    },
    {
      "cell_type": "code",
      "metadata": {
        "colab": {
          "base_uri": "https://localhost:8080/"
        },
        "id": "dkBOlE0dwwzZ",
        "outputId": "2ed3e677-1076-4bd2-ee5d-ba4f843ca443"
      },
      "source": [
        "# findall: 정규식에 부합하는 모든 문자열 찾기(대소문자 무시)->모든 소문자 들어있는 토큰 찾기\n",
        "re.findall(r\"\\d+\", \"0010010 Has at least one 010 letter 0010010\",re.I)"
      ],
      "execution_count": null,
      "outputs": [
        {
          "output_type": "execute_result",
          "data": {
            "text/plain": [
              "['0010010', '010', '0010010']"
            ]
          },
          "metadata": {
            "tags": []
          },
          "execution_count": 61
        }
      ]
    },
    {
      "cell_type": "code",
      "metadata": {
        "colab": {
          "base_uri": "https://localhost:8080/"
        },
        "id": "5pwI_hcjxZ72",
        "outputId": "29038c69-ff1d-4b03-fb67-7e85becc071a"
      },
      "source": [
        "re.findall(r\"\\D+\", \"0010010 Has at least one 010 letter 0010010\")"
      ],
      "execution_count": null,
      "outputs": [
        {
          "output_type": "execute_result",
          "data": {
            "text/plain": [
              "[' Has at least one ', ' letter ']"
            ]
          },
          "metadata": {
            "tags": []
          },
          "execution_count": 62
        }
      ]
    },
    {
      "cell_type": "code",
      "metadata": {
        "colab": {
          "base_uri": "https://localhost:8080/"
        },
        "id": "nFbEDVpBxor5",
        "outputId": "b49207a6-4e87-48e2-8521-f256b10e65b9"
      },
      "source": [
        "re.findall(r\"[^a-z]+\", \"0010010 Has at least one 010 letter 0010010\",re.I) \n",
        "#문자 아닌것."
      ],
      "execution_count": null,
      "outputs": [
        {
          "output_type": "execute_result",
          "data": {
            "text/plain": [
              "['0010010 ', ' ', ' ', ' ', ' 010 ', ' 0010010']"
            ]
          },
          "metadata": {
            "tags": []
          },
          "execution_count": 64
        }
      ]
    },
    {
      "cell_type": "code",
      "metadata": {
        "colab": {
          "base_uri": "https://localhost:8080/",
          "height": 35
        },
        "id": "IJWJ0VQWyHNV",
        "outputId": "cacf1781-3f05-4875-b5d3-d690972ab4e1"
      },
      "source": [
        "#sub\"string으로 매칭되는 부분 문자열을 repl로 치환\n",
        "#flag는 대소문자 구별 X\n",
        "re.sub(r\"[a-z]+\", '[...]', \"0010010 Has at least one 010 letter 0010010\",flags=re.I)"
      ],
      "execution_count": null,
      "outputs": [
        {
          "output_type": "execute_result",
          "data": {
            "application/vnd.google.colaboratory.intrinsic+json": {
              "type": "string"
            },
            "text/plain": [
              "'0010010 [...] [...] [...] [...] 010 [...] 0010010'"
            ]
          },
          "metadata": {
            "tags": []
          },
          "execution_count": 66
        }
      ]
    },
    {
      "cell_type": "code",
      "metadata": {
        "colab": {
          "base_uri": "https://localhost:8080/",
          "height": 35
        },
        "id": "eCwfinYXyfhP",
        "outputId": "cb008a6f-6464-4b4a-8056-2274e8cb4920"
      },
      "source": [
        "#010-abcd-0100 ->abcd 값을 ****으로 치환\n",
        "re.sub(r\"[a-z]+\", \"****\", \"010-abcd-0100\")\n",
        "re.sub(r\"[\\W]+\", \"/\", \"010-abcd-0100\")"
      ],
      "execution_count": null,
      "outputs": [
        {
          "output_type": "execute_result",
          "data": {
            "application/vnd.google.colaboratory.intrinsic+json": {
              "type": "string"
            },
            "text/plain": [
              "'010/abcd/0100'"
            ]
          },
          "metadata": {
            "tags": []
          },
          "execution_count": 12
        }
      ]
    },
    {
      "cell_type": "code",
      "metadata": {
        "colab": {
          "base_uri": "https://localhost:8080/",
          "height": 35
        },
        "id": "20AATxZc5c5r",
        "outputId": "9b4f8a14-bb55-4e53-e706-d1374cfd600c"
      },
      "source": [
        "##010-abcd-0100 ->숫자 값을 ****으로 치환\n",
        "re.sub(r\"[0-9]+\", \"****\",\"010-abcd-0100\")"
      ],
      "execution_count": null,
      "outputs": [
        {
          "output_type": "execute_result",
          "data": {
            "application/vnd.google.colaboratory.intrinsic+json": {
              "type": "string"
            },
            "text/plain": [
              "'****-abcd-****'"
            ]
          },
          "metadata": {
            "tags": []
          },
          "execution_count": 75
        }
      ]
    },
    {
      "cell_type": "code",
      "metadata": {
        "colab": {
          "base_uri": "https://localhost:8080/",
          "height": 35
        },
        "id": "mt3GDhMD5yH_",
        "outputId": "5063d5b0-4112-4043-ff8f-b3c465fb7246"
      },
      "source": [
        "re.sub(r\"\\w+\", \"****\", \"010-abcd-0100\")"
      ],
      "execution_count": null,
      "outputs": [
        {
          "output_type": "execute_result",
          "data": {
            "application/vnd.google.colaboratory.intrinsic+json": {
              "type": "string"
            },
            "text/plain": [
              "'****-****-****'"
            ]
          },
          "metadata": {
            "tags": []
          },
          "execution_count": 76
        }
      ]
    },
    {
      "cell_type": "code",
      "metadata": {
        "id": "b8GWaQAE6Crd"
      },
      "source": [
        ""
      ],
      "execution_count": null,
      "outputs": []
    }
  ]
}